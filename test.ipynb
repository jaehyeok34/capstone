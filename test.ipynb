{
 "cells": [
  {
   "cell_type": "code",
   "execution_count": 1,
   "metadata": {},
   "outputs": [],
   "source": [
    "pseudonymizes = {\n",
    "    \"삭제기술\": (\"일반삭제\", \"부분삭제\", \"행 항목 삭제\", \"로컬삭제\", \"마스킹\", \"주소\"),\n",
    "    \"통계도구\": (\"총계처리\", \"부분총계\"),\n",
    "    \"범주화 기술\": (\"일반 라운딩\", \"랜덤 라운딩\", \"로컬 일반화\", \"문자데이터 범주화\"),\n",
    "}"
   ]
  },
  {
   "cell_type": "code",
   "execution_count": 12,
   "metadata": {},
   "outputs": [
    {
     "name": "stdout",
     "output_type": "stream",
     "text": [
      "['일반삭제', '부분삭제', '행 항목 삭제', '로컬삭제', '마스킹', '주소', '총계처리', '부분총계', '일반 라운딩', '랜덤 라운딩', '로컬 일반화', '문자데이터 범주화']\n",
      "['일반삭제', '부분삭제', '행 항목 삭제', '로컬삭제', '마스킹', '주소', '총계처리', '부분총계', '일반 라운딩', '랜덤 라운딩', '로컬 일반화', '문자데이터 범주화']\n"
     ]
    }
   ],
   "source": [
    "from itertools import chain\n",
    "print(list(chain(*pseudonymizes.values())))\n",
    "\n",
    "# 다른 방법으로 리스트를 생성\n",
    "flattened_list = [item for sublist in pseudonymizes.values() for item in sublist]\n",
    "print(flattened_list)\n",
    "\n"
   ]
  },
  {
   "cell_type": "code",
   "execution_count": 13,
   "metadata": {},
   "outputs": [],
   "source": [
    "# from itertools import chain\n",
    "\n",
    "# # 튜플을 스프레드해서 하나의 리스트로 변환\n",
    "# flattened_list = list(chain(*pseudonymizes.values()))\n",
    "# print(flattened_list)"
   ]
  },
  {
   "cell_type": "code",
   "execution_count": null,
   "metadata": {},
   "outputs": [],
   "source": []
  }
 ],
 "metadata": {
  "kernelspec": {
   "display_name": ".venv",
   "language": "python",
   "name": "python3"
  },
  "language_info": {
   "codemirror_mode": {
    "name": "ipython",
    "version": 3
   },
   "file_extension": ".py",
   "mimetype": "text/x-python",
   "name": "python",
   "nbconvert_exporter": "python",
   "pygments_lexer": "ipython3",
   "version": "3.13.1"
  }
 },
 "nbformat": 4,
 "nbformat_minor": 2
}
